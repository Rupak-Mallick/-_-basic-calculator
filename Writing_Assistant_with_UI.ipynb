{
  "nbformat": 4,
  "nbformat_minor": 0,
  "metadata": {
    "colab": {
      "provenance": [],
      "gpuType": "T4",
      "authorship_tag": "ABX9TyPW2GHYr+/6+3/D9EgKV70Z",
      "include_colab_link": true
    },
    "kernelspec": {
      "name": "python3",
      "display_name": "Python 3"
    },
    "language_info": {
      "name": "python"
    },
    "accelerator": "GPU"
  },
  "cells": [
    {
      "cell_type": "markdown",
      "metadata": {
        "id": "view-in-github",
        "colab_type": "text"
      },
      "source": [
        "<a href=\"https://colab.research.google.com/github/Rupak-Mallick/-_-basic-calculator/blob/main/Writing_Assistant_with_UI.ipynb\" target=\"_parent\"><img src=\"https://colab.research.google.com/assets/colab-badge.svg\" alt=\"Open In Colab\"/></a>"
      ]
    },
    {
      "cell_type": "code",
      "source": [
        "# ✅ Install required packages\n",
        "!pip install -q -U langchain langchain-groq langchain-community python-dotenv gradio\n",
        "\n",
        "# ✅ Imports\n",
        "import os\n",
        "from google.colab import userdata\n",
        "import gradio as gr\n",
        "from langchain_groq import ChatGroq\n",
        "from langchain.agents import initialize_agent, Tool, AgentType\n",
        "from langchain.memory import ConversationBufferMemory\n",
        "from langchain.prompts import PromptTemplate\n",
        "from langchain.tools import tool\n",
        "\n",
        "# ✅ Load API key from Colab secrets\n",
        "try:\n",
        "    groq_api_key = userdata.get('GROQ_API_KEY')\n",
        "except Exception as e:\n",
        "    raise ValueError(\"⚠️ Failed to load Groq API Key from Colab secrets\")\n",
        "\n",
        "# ✅ Writing Knowledge Base\n",
        "WRITING_KNOWLEDGE = {\n",
        "    \"hook\": \"A hook is a compelling first sentence designed to grab the reader's attention.\",\n",
        "    \"thesis\": \"A thesis statement clearly expresses the main idea of your paper.\",\n",
        "    \"conclusion\": \"A strong conclusion summarizes your argument and reinforces your thesis.\"\n",
        "}\n",
        "\n",
        "# ✅ Tool 1: Writing Knowledge Base\n",
        "@tool\n",
        "def writing_knowledge_base(topic: str) -> str:\n",
        "    \"\"\"Retrieve writing-related tips or definitions from knowledge base\"\"\"\n",
        "    topic = topic.lower().strip()\n",
        "    if topic in WRITING_KNOWLEDGE:\n",
        "        return WRITING_KNOWLEDGE[topic]\n",
        "    for key in WRITING_KNOWLEDGE:\n",
        "        if key in topic:\n",
        "            return WRITING_KNOWLEDGE[key]\n",
        "    return \"\"\n",
        "\n",
        "# ✅ Tool 2: Reading Time Calculator\n",
        "@tool\n",
        "def estimate_reading_time(words: str) -> str:\n",
        "    \"\"\"Calculate exact reading time from word count\"\"\"\n",
        "    try:\n",
        "        word_count = int(''.join(filter(str.isdigit, words)))\n",
        "        if word_count <= 0:\n",
        "            return \"Word count must be positive\"\n",
        "        minutes = word_count / 200\n",
        "        if minutes < 1:\n",
        "            return f\"Exact reading time: {int(word_count / 200 * 60)} seconds ({word_count} words)\"\n",
        "        elif minutes > 60:\n",
        "            hours = int(minutes // 60)\n",
        "            remaining_mins = int(minutes % 60)\n",
        "            return f\"Exact reading time: {hours}h {remaining_mins}m ({word_count} words)\"\n",
        "        else:\n",
        "            return f\"Exact reading time: {minutes:.1f} minutes ({word_count} words)\"\n",
        "    except:\n",
        "        return \"Please enter like: 1200 or '1200 words'\"\n",
        "\n",
        "# ✅ Tools initialization\n",
        "tools = [\n",
        "    Tool(name=\"WritingGuide\", func=writing_knowledge_base, description=\"For writing terms like hook, thesis, conclusion\"),\n",
        "    Tool(name=\"ReadingTime\", func=estimate_reading_time, description=\"For calculating reading time from word count\")\n",
        "]\n",
        "\n",
        "# ✅ Prompt Template\n",
        "writing_prompt = PromptTemplate(\n",
        "    input_variables=[\"task\"],\n",
        "    template=\"\"\"\n",
        "You are a professional writing assistant. Provide short, clear, and helpful responses in this format:\n",
        "\n",
        "Definition (1 sentence)\n",
        "- Bullet point 1\n",
        "- Bullet point 2\n",
        "\n",
        "Only include an example if it's very helpful.\n",
        "\n",
        "Examples:\n",
        "\n",
        "Q: What is a thesis statement?\n",
        "A: A thesis statement summarizes the main argument of your essay in one sentence.\n",
        "- Guides the essay's structure and focus\n",
        "- Should be clear, specific, and arguable\n",
        "\n",
        "Q: What is a hook in writing?\n",
        "A: A hook is the opening sentence that grabs the reader’s attention.\n",
        "- Can be a question, quote, or bold statement\n",
        "- Makes the reader want to keep reading\n",
        "\n",
        "Q: {task}\n",
        "A:\"\"\"\n",
        ")\n",
        "\n",
        "# ✅ Initialize LLM\n",
        "llm = ChatGroq(\n",
        "    model_name=\"meta-llama/llama-4-scout-17b-16e-instruct\",\n",
        "    temperature=0.7,\n",
        "    groq_api_key=groq_api_key\n",
        ")\n",
        "\n",
        "# ✅ Initialize memory\n",
        "memory = ConversationBufferMemory(memory_key=\"chat_history\")\n",
        "\n",
        "# ✅ Initialize agent\n",
        "agent = initialize_agent(\n",
        "    tools=tools,\n",
        "    llm=llm,\n",
        "    agent=AgentType.STRUCTURED_CHAT_ZERO_SHOT_REACT_DESCRIPTION,\n",
        "    memory=memory,\n",
        "    verbose=False,\n",
        "    max_iterations=2,\n",
        "    early_stopping_method=\"generate\",\n",
        "    handle_parsing_errors=True\n",
        ")\n",
        "\n",
        "# ✅ Response function for Gradio\n",
        "def writing_assistant(user_input):\n",
        "    if not user_input.strip():\n",
        "        return \"❌ Please enter a question.\"\n",
        "\n",
        "    # Tool 1: Knowledge Base\n",
        "    kb_answer = writing_knowledge_base.invoke(user_input)\n",
        "    if kb_answer and kb_answer.strip() != \"\":\n",
        "        return f\"🛠️ Used Knowledge Base:\\n\\n{kb_answer}\"\n",
        "\n",
        "    # Tool 2: Reading Time\n",
        "    if any(word in user_input.lower() for word in [\"word\", \"read\", \"minute\", \"hour\", \"'\", \"\\\"\"]):\n",
        "        nums = []\n",
        "        for word in user_input.split():\n",
        "            clean_word = word.strip('\"\\'').replace(',', '')\n",
        "            if clean_word.isdigit():\n",
        "                nums.append(int(clean_word))\n",
        "        if nums:\n",
        "            return f\"🛠️ Used Reading Calculator:\\n\\n{estimate_reading_time.invoke(str(nums[0]))}\"\n",
        "\n",
        "    # Else use LLM\n",
        "    try:\n",
        "        response = agent.invoke({\n",
        "            \"input\": writing_prompt.format(task=user_input)\n",
        "        })\n",
        "        return f\"🤖 Used LLM:\\n\\n{response['output']}\"\n",
        "    except Exception as e:\n",
        "        return f\"❌ Error: {str(e)}\"\n",
        "\n",
        "# ✅ Gradio UI\n",
        "gr.Interface(\n",
        "    fn=writing_assistant,\n",
        "    inputs=gr.Textbox(label=\"✍️ Enter your question\", placeholder=\"e.g., What is a thesis statement?\"),\n",
        "    outputs=gr.Textbox(label=\"🧠 Assistant Response\"),\n",
        "    title=\"📝 AI Writing Assistant\",\n",
        "    description=\"Ask about writing techniques, terms, or reading time. Powered by LangChain, Groq & LLaMA 4.\"\n",
        ").launch()\n"
      ],
      "metadata": {
        "colab": {
          "base_uri": "https://localhost:8080/",
          "height": 715
        },
        "id": "lTOIIs7Lc3ge",
        "outputId": "4959314e-8d56-4aef-e4cc-cce295f3e984"
      },
      "execution_count": null,
      "outputs": [
        {
          "output_type": "stream",
          "name": "stderr",
          "text": [
            "<ipython-input-1-20d19b5a6ef3>:101: LangChainDeprecationWarning: Please see the migration guide at: https://python.langchain.com/docs/versions/migrating_memory/\n",
            "  memory = ConversationBufferMemory(memory_key=\"chat_history\")\n",
            "<ipython-input-1-20d19b5a6ef3>:104: LangChainDeprecationWarning: LangChain agents will continue to be supported, but it is recommended for new use cases to be built with LangGraph. LangGraph offers a more flexible and full-featured framework for building agents, including support for tool-calling, persistence of state, and human-in-the-loop workflows. For details, refer to the `LangGraph documentation <https://langchain-ai.github.io/langgraph/>`_ as well as guides for `Migrating from AgentExecutor <https://python.langchain.com/docs/how_to/migrate_agent/>`_ and LangGraph's `Pre-built ReAct agent <https://langchain-ai.github.io/langgraph/how-tos/create-react-agent/>`_.\n",
            "  agent = initialize_agent(\n"
          ]
        },
        {
          "output_type": "stream",
          "name": "stdout",
          "text": [
            "It looks like you are running Gradio on a hosted a Jupyter notebook. For the Gradio app to work, sharing must be enabled. Automatically setting `share=True` (you can turn this off by setting `share=False` in `launch()` explicitly).\n",
            "\n",
            "Colab notebook detected. To show errors in colab notebook, set debug=True in launch()\n",
            "* Running on public URL: https://197cf43112d9a17f8b.gradio.live\n",
            "\n",
            "This share link expires in 1 week. For free permanent hosting and GPU upgrades, run `gradio deploy` from the terminal in the working directory to deploy to Hugging Face Spaces (https://huggingface.co/spaces)\n"
          ]
        },
        {
          "output_type": "display_data",
          "data": {
            "text/plain": [
              "<IPython.core.display.HTML object>"
            ],
            "text/html": [
              "<div><iframe src=\"https://197cf43112d9a17f8b.gradio.live\" width=\"100%\" height=\"500\" allow=\"autoplay; camera; microphone; clipboard-read; clipboard-write;\" frameborder=\"0\" allowfullscreen></iframe></div>"
            ]
          },
          "metadata": {}
        },
        {
          "output_type": "execute_result",
          "data": {
            "text/plain": []
          },
          "metadata": {},
          "execution_count": 1
        }
      ]
    }
  ]
}